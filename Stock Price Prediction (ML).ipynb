{
 "cells": [
  {
   "cell_type": "markdown",
   "id": "4f105511",
   "metadata": {},
   "source": [
    "# Predicting Stock Price Direction using Support Vector Machines"
   ]
  },
  {
   "cell_type": "markdown",
   "id": "b1457f36",
   "metadata": {},
   "source": [
    "## Introduction\n",
    "\n",
    ">The code showcases the application of machine learning i.e. Support Vector Machines (SVM), to predict the direction of stock prices. It utilizes historical stock price data and technical indicators to make predictions about future price movements."
   ]
  },
  {
   "cell_type": "markdown",
   "id": "d7477225",
   "metadata": {},
   "source": [
    "## Applications\n",
    "\n",
    ">Stock price direction prediction using SVM has various applications in finance and investment. It can assist traders and investors in making informed decisions by providing insights into potential price trends. Additionally, such models can be used to develop automated trading strategies that capitalize on predicted price movements."
   ]
  },
  {
   "cell_type": "code",
   "execution_count": 2,
   "id": "b2d3033c",
   "metadata": {},
   "outputs": [
    {
     "name": "stderr",
     "output_type": "stream",
     "text": [
      "D:\\conda\\lib\\site-packages\\scipy\\__init__.py:146: UserWarning: A NumPy version >=1.16.5 and <1.23.0 is required for this version of SciPy (detected version 1.26.4\n",
      "  warnings.warn(f\"A NumPy version >={np_minversion} and <{np_maxversion}\"\n"
     ]
    }
   ],
   "source": [
    "# Machine learning \n",
    "from sklearn.svm import SVC \n",
    "from sklearn.metrics import accuracy_score \n",
    "\n",
    "# For data manipulation \n",
    "import pandas as pd \n",
    "import numpy as np \n",
    "\n",
    "# To plot \n",
    "import matplotlib.pyplot as plt \n",
    "plt.style.use('seaborn-darkgrid') \n",
    "\n",
    "# To ignore warnings \n",
    "import warnings \n",
    "warnings.filterwarnings(\"ignore\")"
   ]
  },
  {
   "cell_type": "markdown",
   "id": "11404dfc",
   "metadata": {},
   "source": [
    "## Loading the dataset"
   ]
  },
  {
   "cell_type": "code",
   "execution_count": 3,
   "id": "4e27ce1c",
   "metadata": {},
   "outputs": [
    {
     "data": {
      "text/html": [
       "<div>\n",
       "<style scoped>\n",
       "    .dataframe tbody tr th:only-of-type {\n",
       "        vertical-align: middle;\n",
       "    }\n",
       "\n",
       "    .dataframe tbody tr th {\n",
       "        vertical-align: top;\n",
       "    }\n",
       "\n",
       "    .dataframe thead th {\n",
       "        text-align: right;\n",
       "    }\n",
       "</style>\n",
       "<table border=\"1\" class=\"dataframe\">\n",
       "  <thead>\n",
       "    <tr style=\"text-align: right;\">\n",
       "      <th></th>\n",
       "      <th>Date</th>\n",
       "      <th>Open</th>\n",
       "      <th>High</th>\n",
       "      <th>Low</th>\n",
       "      <th>Close</th>\n",
       "      <th>Adj Close</th>\n",
       "      <th>Volume</th>\n",
       "    </tr>\n",
       "  </thead>\n",
       "  <tbody>\n",
       "    <tr>\n",
       "      <th>0</th>\n",
       "      <td>2015-11-18</td>\n",
       "      <td>463.799988</td>\n",
       "      <td>465.649994</td>\n",
       "      <td>454.975006</td>\n",
       "      <td>456.000000</td>\n",
       "      <td>436.671021</td>\n",
       "      <td>5142766.0</td>\n",
       "    </tr>\n",
       "    <tr>\n",
       "      <th>1</th>\n",
       "      <td>2015-11-19</td>\n",
       "      <td>459.450012</td>\n",
       "      <td>469.350006</td>\n",
       "      <td>458.625000</td>\n",
       "      <td>467.375000</td>\n",
       "      <td>447.563873</td>\n",
       "      <td>5569752.0</td>\n",
       "    </tr>\n",
       "    <tr>\n",
       "      <th>2</th>\n",
       "      <td>2015-11-20</td>\n",
       "      <td>467.000000</td>\n",
       "      <td>476.399994</td>\n",
       "      <td>462.774994</td>\n",
       "      <td>473.424988</td>\n",
       "      <td>453.357422</td>\n",
       "      <td>5167930.0</td>\n",
       "    </tr>\n",
       "    <tr>\n",
       "      <th>3</th>\n",
       "      <td>2015-11-23</td>\n",
       "      <td>475.000000</td>\n",
       "      <td>478.950012</td>\n",
       "      <td>473.100006</td>\n",
       "      <td>476.875000</td>\n",
       "      <td>456.661224</td>\n",
       "      <td>4800026.0</td>\n",
       "    </tr>\n",
       "    <tr>\n",
       "      <th>4</th>\n",
       "      <td>2015-11-24</td>\n",
       "      <td>476.500000</td>\n",
       "      <td>485.799988</td>\n",
       "      <td>475.524994</td>\n",
       "      <td>483.850006</td>\n",
       "      <td>463.340515</td>\n",
       "      <td>6768886.0</td>\n",
       "    </tr>\n",
       "    <tr>\n",
       "      <th>...</th>\n",
       "      <td>...</td>\n",
       "      <td>...</td>\n",
       "      <td>...</td>\n",
       "      <td>...</td>\n",
       "      <td>...</td>\n",
       "      <td>...</td>\n",
       "      <td>...</td>\n",
       "    </tr>\n",
       "    <tr>\n",
       "      <th>1228</th>\n",
       "      <td>2020-11-10</td>\n",
       "      <td>2077.000000</td>\n",
       "      <td>2090.000000</td>\n",
       "      <td>2041.199951</td>\n",
       "      <td>2084.550049</td>\n",
       "      <td>2084.550049</td>\n",
       "      <td>17045147.0</td>\n",
       "    </tr>\n",
       "    <tr>\n",
       "      <th>1229</th>\n",
       "      <td>2020-11-11</td>\n",
       "      <td>2089.000000</td>\n",
       "      <td>2095.000000</td>\n",
       "      <td>1978.099976</td>\n",
       "      <td>1997.199951</td>\n",
       "      <td>1997.199951</td>\n",
       "      <td>26178477.0</td>\n",
       "    </tr>\n",
       "    <tr>\n",
       "      <th>1230</th>\n",
       "      <td>2020-11-12</td>\n",
       "      <td>1981.000000</td>\n",
       "      <td>2008.449951</td>\n",
       "      <td>1965.000000</td>\n",
       "      <td>1980.000000</td>\n",
       "      <td>1980.000000</td>\n",
       "      <td>18481466.0</td>\n",
       "    </tr>\n",
       "    <tr>\n",
       "      <th>1231</th>\n",
       "      <td>2020-11-13</td>\n",
       "      <td>1982.000000</td>\n",
       "      <td>2036.650024</td>\n",
       "      <td>1981.750000</td>\n",
       "      <td>1996.400024</td>\n",
       "      <td>1996.400024</td>\n",
       "      <td>20946864.0</td>\n",
       "    </tr>\n",
       "    <tr>\n",
       "      <th>1232</th>\n",
       "      <td>2020-11-17</td>\n",
       "      <td>2085.000000</td>\n",
       "      <td>2085.000000</td>\n",
       "      <td>1985.000000</td>\n",
       "      <td>1993.250000</td>\n",
       "      <td>1993.250000</td>\n",
       "      <td>21479385.0</td>\n",
       "    </tr>\n",
       "  </tbody>\n",
       "</table>\n",
       "<p>1233 rows × 7 columns</p>\n",
       "</div>"
      ],
      "text/plain": [
       "            Date         Open         High          Low        Close  \\\n",
       "0     2015-11-18   463.799988   465.649994   454.975006   456.000000   \n",
       "1     2015-11-19   459.450012   469.350006   458.625000   467.375000   \n",
       "2     2015-11-20   467.000000   476.399994   462.774994   473.424988   \n",
       "3     2015-11-23   475.000000   478.950012   473.100006   476.875000   \n",
       "4     2015-11-24   476.500000   485.799988   475.524994   483.850006   \n",
       "...          ...          ...          ...          ...          ...   \n",
       "1228  2020-11-10  2077.000000  2090.000000  2041.199951  2084.550049   \n",
       "1229  2020-11-11  2089.000000  2095.000000  1978.099976  1997.199951   \n",
       "1230  2020-11-12  1981.000000  2008.449951  1965.000000  1980.000000   \n",
       "1231  2020-11-13  1982.000000  2036.650024  1981.750000  1996.400024   \n",
       "1232  2020-11-17  2085.000000  2085.000000  1985.000000  1993.250000   \n",
       "\n",
       "        Adj Close      Volume  \n",
       "0      436.671021   5142766.0  \n",
       "1      447.563873   5569752.0  \n",
       "2      453.357422   5167930.0  \n",
       "3      456.661224   4800026.0  \n",
       "4      463.340515   6768886.0  \n",
       "...           ...         ...  \n",
       "1228  2084.550049  17045147.0  \n",
       "1229  1997.199951  26178477.0  \n",
       "1230  1980.000000  18481466.0  \n",
       "1231  1996.400024  20946864.0  \n",
       "1232  1993.250000  21479385.0  \n",
       "\n",
       "[1233 rows x 7 columns]"
      ]
     },
     "execution_count": 3,
     "metadata": {},
     "output_type": "execute_result"
    }
   ],
   "source": [
    "# Read the csv file using read_csv \n",
    "# method of pandas \n",
    "df = pd.read_csv(r'D:\\WEBEL_Assignments\\Machine_learning_RJSir\\Projects\\Project_5_Stock Price Prediction\\Reliance.csv') \n",
    "df"
   ]
  },
  {
   "cell_type": "code",
   "execution_count": 4,
   "id": "606635a6",
   "metadata": {},
   "outputs": [
    {
     "data": {
      "text/plain": [
       "(1233, 7)"
      ]
     },
     "execution_count": 4,
     "metadata": {},
     "output_type": "execute_result"
    }
   ],
   "source": [
    "df.shape"
   ]
  },
  {
   "cell_type": "markdown",
   "id": "91f21a28",
   "metadata": {},
   "source": [
    ">The dataset contains **1233** rows and **7** columns. Each row represents a day's stock market data, and each column represents a different attribute or feature of that day's data."
   ]
  },
  {
   "cell_type": "code",
   "execution_count": 5,
   "id": "f2967e9b",
   "metadata": {},
   "outputs": [
    {
     "name": "stdout",
     "output_type": "stream",
     "text": [
      "Date         0\n",
      "Open         1\n",
      "High         1\n",
      "Low          1\n",
      "Close        1\n",
      "Adj Close    1\n",
      "Volume       1\n",
      "dtype: int64\n",
      "Date         1233\n",
      "Open         1232\n",
      "High         1232\n",
      "Low          1232\n",
      "Close        1232\n",
      "Adj Close    1232\n",
      "Volume       1232\n",
      "dtype: int64\n"
     ]
    }
   ],
   "source": [
    "print(df.isnull().sum())  # Check for NaN values\n",
    "print(df.notnull().sum())  # Check for infinite values\n"
   ]
  },
  {
   "cell_type": "markdown",
   "id": "3374369e",
   "metadata": {},
   "source": [
    "## Data Cleaning and Preprocessing"
   ]
  },
  {
   "cell_type": "code",
   "execution_count": 6,
   "id": "944e05de",
   "metadata": {},
   "outputs": [
    {
     "name": "stdout",
     "output_type": "stream",
     "text": [
      "Date         0\n",
      "Open         0\n",
      "High         0\n",
      "Low          0\n",
      "Close        0\n",
      "Adj Close    0\n",
      "Volume       0\n",
      "dtype: int64\n",
      "Date         1233\n",
      "Open         1233\n",
      "High         1233\n",
      "Low          1233\n",
      "Close        1233\n",
      "Adj Close    1233\n",
      "Volume       1233\n",
      "dtype: int64\n"
     ]
    }
   ],
   "source": [
    "# Replace NaN values with the mean of the column\n",
    "df.fillna(df.mean(), inplace=True)\n",
    "\n",
    "# Replace infinite values with a large finite value\n",
    "df.replace([np.inf, -np.inf], np.nan, inplace=True)\n",
    "df.fillna(1e10, inplace=True)  # Replace NaN with a large value\n",
    "\n",
    "# Check if there are any NaN or infinite values remaining\n",
    "print(df.isnull().sum())\n",
    "print(df.notnull().sum())"
   ]
  },
  {
   "cell_type": "markdown",
   "id": "83be88a2",
   "metadata": {},
   "source": [
    "In the above code, the NaN and infinite values are replaced with numbers using:\n",
    "\n",
    "- NaN values in the DataFrame are replaced with the mean of each respective column using `df.fillna(df.mean(), inplace=True)`. This ensures that missing values are filled with a representative value based on the distribution of each feature.\n",
    "\n",
    "\n",
    "- Infinite values (both positive and negative) are replaced with NaN using `df.replace([np.inf, -np.inf], np.nan, \n",
    "inplace=True)`.\n",
    "\n",
    "\n",
    "- NaN values resulting from the replacement of infinite values are then filled with a large finite value (`1e10`) using `df.fillna(1e10, inplace=True)`.\n",
    "\n",
    "\n",
    "- Finally, the code checks if there are any remaining NaN or infinite values in the DataFrame using `print(df.isnull().sum())` and `print(df.notnull().sum())`, ensuring that the data is clean and ready for further processing."
   ]
  },
  {
   "cell_type": "code",
   "execution_count": 7,
   "id": "1b8b4dc3",
   "metadata": {},
   "outputs": [
    {
     "data": {
      "text/html": [
       "<div>\n",
       "<style scoped>\n",
       "    .dataframe tbody tr th:only-of-type {\n",
       "        vertical-align: middle;\n",
       "    }\n",
       "\n",
       "    .dataframe tbody tr th {\n",
       "        vertical-align: top;\n",
       "    }\n",
       "\n",
       "    .dataframe thead th {\n",
       "        text-align: right;\n",
       "    }\n",
       "</style>\n",
       "<table border=\"1\" class=\"dataframe\">\n",
       "  <thead>\n",
       "    <tr style=\"text-align: right;\">\n",
       "      <th></th>\n",
       "      <th>Date</th>\n",
       "      <th>Open</th>\n",
       "      <th>High</th>\n",
       "      <th>Low</th>\n",
       "      <th>Close</th>\n",
       "      <th>Adj Close</th>\n",
       "      <th>Volume</th>\n",
       "    </tr>\n",
       "  </thead>\n",
       "  <tbody>\n",
       "    <tr>\n",
       "      <th>0</th>\n",
       "      <td>2015-11-18</td>\n",
       "      <td>463.799988</td>\n",
       "      <td>465.649994</td>\n",
       "      <td>454.975006</td>\n",
       "      <td>456.000000</td>\n",
       "      <td>436.671021</td>\n",
       "      <td>5142766.0</td>\n",
       "    </tr>\n",
       "    <tr>\n",
       "      <th>1</th>\n",
       "      <td>2015-11-19</td>\n",
       "      <td>459.450012</td>\n",
       "      <td>469.350006</td>\n",
       "      <td>458.625000</td>\n",
       "      <td>467.375000</td>\n",
       "      <td>447.563873</td>\n",
       "      <td>5569752.0</td>\n",
       "    </tr>\n",
       "    <tr>\n",
       "      <th>2</th>\n",
       "      <td>2015-11-20</td>\n",
       "      <td>467.000000</td>\n",
       "      <td>476.399994</td>\n",
       "      <td>462.774994</td>\n",
       "      <td>473.424988</td>\n",
       "      <td>453.357422</td>\n",
       "      <td>5167930.0</td>\n",
       "    </tr>\n",
       "    <tr>\n",
       "      <th>3</th>\n",
       "      <td>2015-11-23</td>\n",
       "      <td>475.000000</td>\n",
       "      <td>478.950012</td>\n",
       "      <td>473.100006</td>\n",
       "      <td>476.875000</td>\n",
       "      <td>456.661224</td>\n",
       "      <td>4800026.0</td>\n",
       "    </tr>\n",
       "    <tr>\n",
       "      <th>4</th>\n",
       "      <td>2015-11-24</td>\n",
       "      <td>476.500000</td>\n",
       "      <td>485.799988</td>\n",
       "      <td>475.524994</td>\n",
       "      <td>483.850006</td>\n",
       "      <td>463.340515</td>\n",
       "      <td>6768886.0</td>\n",
       "    </tr>\n",
       "  </tbody>\n",
       "</table>\n",
       "</div>"
      ],
      "text/plain": [
       "         Date        Open        High         Low       Close   Adj Close  \\\n",
       "0  2015-11-18  463.799988  465.649994  454.975006  456.000000  436.671021   \n",
       "1  2015-11-19  459.450012  469.350006  458.625000  467.375000  447.563873   \n",
       "2  2015-11-20  467.000000  476.399994  462.774994  473.424988  453.357422   \n",
       "3  2015-11-23  475.000000  478.950012  473.100006  476.875000  456.661224   \n",
       "4  2015-11-24  476.500000  485.799988  475.524994  483.850006  463.340515   \n",
       "\n",
       "      Volume  \n",
       "0  5142766.0  \n",
       "1  5569752.0  \n",
       "2  5167930.0  \n",
       "3  4800026.0  \n",
       "4  6768886.0  "
      ]
     },
     "execution_count": 7,
     "metadata": {},
     "output_type": "execute_result"
    }
   ],
   "source": [
    "df.head() # Print the first five data"
   ]
  },
  {
   "cell_type": "markdown",
   "id": "8f3230eb",
   "metadata": {},
   "source": [
    "## Setting Date as Index and Dropping the Original Date Column"
   ]
  },
  {
   "cell_type": "code",
   "execution_count": 8,
   "id": "2927ef90",
   "metadata": {},
   "outputs": [
    {
     "data": {
      "text/html": [
       "<div>\n",
       "<style scoped>\n",
       "    .dataframe tbody tr th:only-of-type {\n",
       "        vertical-align: middle;\n",
       "    }\n",
       "\n",
       "    .dataframe tbody tr th {\n",
       "        vertical-align: top;\n",
       "    }\n",
       "\n",
       "    .dataframe thead th {\n",
       "        text-align: right;\n",
       "    }\n",
       "</style>\n",
       "<table border=\"1\" class=\"dataframe\">\n",
       "  <thead>\n",
       "    <tr style=\"text-align: right;\">\n",
       "      <th></th>\n",
       "      <th>Open</th>\n",
       "      <th>High</th>\n",
       "      <th>Low</th>\n",
       "      <th>Close</th>\n",
       "      <th>Adj Close</th>\n",
       "      <th>Volume</th>\n",
       "    </tr>\n",
       "    <tr>\n",
       "      <th>Date</th>\n",
       "      <th></th>\n",
       "      <th></th>\n",
       "      <th></th>\n",
       "      <th></th>\n",
       "      <th></th>\n",
       "      <th></th>\n",
       "    </tr>\n",
       "  </thead>\n",
       "  <tbody>\n",
       "    <tr>\n",
       "      <th>2015-11-18</th>\n",
       "      <td>463.799988</td>\n",
       "      <td>465.649994</td>\n",
       "      <td>454.975006</td>\n",
       "      <td>456.000000</td>\n",
       "      <td>436.671021</td>\n",
       "      <td>5142766.0</td>\n",
       "    </tr>\n",
       "    <tr>\n",
       "      <th>2015-11-19</th>\n",
       "      <td>459.450012</td>\n",
       "      <td>469.350006</td>\n",
       "      <td>458.625000</td>\n",
       "      <td>467.375000</td>\n",
       "      <td>447.563873</td>\n",
       "      <td>5569752.0</td>\n",
       "    </tr>\n",
       "    <tr>\n",
       "      <th>2015-11-20</th>\n",
       "      <td>467.000000</td>\n",
       "      <td>476.399994</td>\n",
       "      <td>462.774994</td>\n",
       "      <td>473.424988</td>\n",
       "      <td>453.357422</td>\n",
       "      <td>5167930.0</td>\n",
       "    </tr>\n",
       "    <tr>\n",
       "      <th>2015-11-23</th>\n",
       "      <td>475.000000</td>\n",
       "      <td>478.950012</td>\n",
       "      <td>473.100006</td>\n",
       "      <td>476.875000</td>\n",
       "      <td>456.661224</td>\n",
       "      <td>4800026.0</td>\n",
       "    </tr>\n",
       "    <tr>\n",
       "      <th>2015-11-24</th>\n",
       "      <td>476.500000</td>\n",
       "      <td>485.799988</td>\n",
       "      <td>475.524994</td>\n",
       "      <td>483.850006</td>\n",
       "      <td>463.340515</td>\n",
       "      <td>6768886.0</td>\n",
       "    </tr>\n",
       "    <tr>\n",
       "      <th>...</th>\n",
       "      <td>...</td>\n",
       "      <td>...</td>\n",
       "      <td>...</td>\n",
       "      <td>...</td>\n",
       "      <td>...</td>\n",
       "      <td>...</td>\n",
       "    </tr>\n",
       "    <tr>\n",
       "      <th>2020-11-10</th>\n",
       "      <td>2077.000000</td>\n",
       "      <td>2090.000000</td>\n",
       "      <td>2041.199951</td>\n",
       "      <td>2084.550049</td>\n",
       "      <td>2084.550049</td>\n",
       "      <td>17045147.0</td>\n",
       "    </tr>\n",
       "    <tr>\n",
       "      <th>2020-11-11</th>\n",
       "      <td>2089.000000</td>\n",
       "      <td>2095.000000</td>\n",
       "      <td>1978.099976</td>\n",
       "      <td>1997.199951</td>\n",
       "      <td>1997.199951</td>\n",
       "      <td>26178477.0</td>\n",
       "    </tr>\n",
       "    <tr>\n",
       "      <th>2020-11-12</th>\n",
       "      <td>1981.000000</td>\n",
       "      <td>2008.449951</td>\n",
       "      <td>1965.000000</td>\n",
       "      <td>1980.000000</td>\n",
       "      <td>1980.000000</td>\n",
       "      <td>18481466.0</td>\n",
       "    </tr>\n",
       "    <tr>\n",
       "      <th>2020-11-13</th>\n",
       "      <td>1982.000000</td>\n",
       "      <td>2036.650024</td>\n",
       "      <td>1981.750000</td>\n",
       "      <td>1996.400024</td>\n",
       "      <td>1996.400024</td>\n",
       "      <td>20946864.0</td>\n",
       "    </tr>\n",
       "    <tr>\n",
       "      <th>2020-11-17</th>\n",
       "      <td>2085.000000</td>\n",
       "      <td>2085.000000</td>\n",
       "      <td>1985.000000</td>\n",
       "      <td>1993.250000</td>\n",
       "      <td>1993.250000</td>\n",
       "      <td>21479385.0</td>\n",
       "    </tr>\n",
       "  </tbody>\n",
       "</table>\n",
       "<p>1233 rows × 6 columns</p>\n",
       "</div>"
      ],
      "text/plain": [
       "                   Open         High          Low        Close    Adj Close  \\\n",
       "Date                                                                          \n",
       "2015-11-18   463.799988   465.649994   454.975006   456.000000   436.671021   \n",
       "2015-11-19   459.450012   469.350006   458.625000   467.375000   447.563873   \n",
       "2015-11-20   467.000000   476.399994   462.774994   473.424988   453.357422   \n",
       "2015-11-23   475.000000   478.950012   473.100006   476.875000   456.661224   \n",
       "2015-11-24   476.500000   485.799988   475.524994   483.850006   463.340515   \n",
       "...                 ...          ...          ...          ...          ...   \n",
       "2020-11-10  2077.000000  2090.000000  2041.199951  2084.550049  2084.550049   \n",
       "2020-11-11  2089.000000  2095.000000  1978.099976  1997.199951  1997.199951   \n",
       "2020-11-12  1981.000000  2008.449951  1965.000000  1980.000000  1980.000000   \n",
       "2020-11-13  1982.000000  2036.650024  1981.750000  1996.400024  1996.400024   \n",
       "2020-11-17  2085.000000  2085.000000  1985.000000  1993.250000  1993.250000   \n",
       "\n",
       "                Volume  \n",
       "Date                    \n",
       "2015-11-18   5142766.0  \n",
       "2015-11-19   5569752.0  \n",
       "2015-11-20   5167930.0  \n",
       "2015-11-23   4800026.0  \n",
       "2015-11-24   6768886.0  \n",
       "...                ...  \n",
       "2020-11-10  17045147.0  \n",
       "2020-11-11  26178477.0  \n",
       "2020-11-12  18481466.0  \n",
       "2020-11-13  20946864.0  \n",
       "2020-11-17  21479385.0  \n",
       "\n",
       "[1233 rows x 6 columns]"
      ]
     },
     "execution_count": 8,
     "metadata": {},
     "output_type": "execute_result"
    }
   ],
   "source": [
    "# Changes The Date column as index columns \n",
    "df.index = pd.to_datetime(df['Date']) \n",
    "df \n",
    "\n",
    "# drop The original date column \n",
    "df = df.drop(['Date'], axis='columns') \n",
    "df"
   ]
  },
  {
   "cell_type": "markdown",
   "id": "7128202c",
   "metadata": {},
   "source": [
    "- The code sets the 'Date' column as the index of the DataFrame using `df.index = pd.to_datetime(df['Date'])`. This converts the 'Date' column to datetime format and assigns it as the index of the DataFrame.\n",
    "\n",
    "\n",
    "- After setting the 'Date' column as the index, the code drops the original 'Date' column from the DataFrame using `df = df.drop(['Date'], axis='columns')`. This removes the 'Date' column from the DataFrame, leaving only the columns representing the stock market data attributes."
   ]
  },
  {
   "cell_type": "markdown",
   "id": "e11a46d9",
   "metadata": {},
   "source": [
    "## Creating Predictor Variables for Stock Price Prediction"
   ]
  },
  {
   "cell_type": "code",
   "execution_count": 9,
   "id": "c57f84bc",
   "metadata": {},
   "outputs": [
    {
     "data": {
      "text/html": [
       "<div>\n",
       "<style scoped>\n",
       "    .dataframe tbody tr th:only-of-type {\n",
       "        vertical-align: middle;\n",
       "    }\n",
       "\n",
       "    .dataframe tbody tr th {\n",
       "        vertical-align: top;\n",
       "    }\n",
       "\n",
       "    .dataframe thead th {\n",
       "        text-align: right;\n",
       "    }\n",
       "</style>\n",
       "<table border=\"1\" class=\"dataframe\">\n",
       "  <thead>\n",
       "    <tr style=\"text-align: right;\">\n",
       "      <th></th>\n",
       "      <th>Open-Close</th>\n",
       "      <th>High-Low</th>\n",
       "    </tr>\n",
       "    <tr>\n",
       "      <th>Date</th>\n",
       "      <th></th>\n",
       "      <th></th>\n",
       "    </tr>\n",
       "  </thead>\n",
       "  <tbody>\n",
       "    <tr>\n",
       "      <th>2015-11-18</th>\n",
       "      <td>7.799988</td>\n",
       "      <td>10.674988</td>\n",
       "    </tr>\n",
       "    <tr>\n",
       "      <th>2015-11-19</th>\n",
       "      <td>-7.924988</td>\n",
       "      <td>10.725006</td>\n",
       "    </tr>\n",
       "    <tr>\n",
       "      <th>2015-11-20</th>\n",
       "      <td>-6.424988</td>\n",
       "      <td>13.625000</td>\n",
       "    </tr>\n",
       "    <tr>\n",
       "      <th>2015-11-23</th>\n",
       "      <td>-1.875000</td>\n",
       "      <td>5.850006</td>\n",
       "    </tr>\n",
       "    <tr>\n",
       "      <th>2015-11-24</th>\n",
       "      <td>-7.350006</td>\n",
       "      <td>10.274994</td>\n",
       "    </tr>\n",
       "  </tbody>\n",
       "</table>\n",
       "</div>"
      ],
      "text/plain": [
       "            Open-Close   High-Low\n",
       "Date                             \n",
       "2015-11-18    7.799988  10.674988\n",
       "2015-11-19   -7.924988  10.725006\n",
       "2015-11-20   -6.424988  13.625000\n",
       "2015-11-23   -1.875000   5.850006\n",
       "2015-11-24   -7.350006  10.274994"
      ]
     },
     "execution_count": 9,
     "metadata": {},
     "output_type": "execute_result"
    }
   ],
   "source": [
    "# Create predictor variables \n",
    "df['Open-Close'] = df.Open - df.Close \n",
    "df['High-Low'] = df.High - df.Low \n",
    "\n",
    "# Store all predictor variables in a variable X \n",
    "X = df[['Open-Close', 'High-Low']] \n",
    "X.head() "
   ]
  },
  {
   "cell_type": "markdown",
   "id": "7ac4e417",
   "metadata": {},
   "source": [
    "\n",
    "\n",
    "- The code creates two new columns in the DataFrame, `'Open-Close'` and `'High-Low'`, representing the price differences between the opening and closing prices, and the difference between the daily high and low prices, respectively.\n",
    "\n",
    "\n",
    "- These new columns serve as predictor variables for the stock price prediction model.\n",
    "\n",
    "\n",
    "- The code then creates a new DataFrame `X` containing only the 'Open-Close' and 'High-Low' columns, which will be used as the input features for the prediction model.\n",
    "\n",
    "\n",
    "- `X.head()` displays the first five rows of the DataFrame `X` to show the newly created predictor variables."
   ]
  },
  {
   "cell_type": "markdown",
   "id": "764725ce",
   "metadata": {},
   "source": [
    "## Creating Target Variables"
   ]
  },
  {
   "cell_type": "code",
   "execution_count": 10,
   "id": "90f52af0",
   "metadata": {},
   "outputs": [
    {
     "data": {
      "text/plain": [
       "array([1, 1, 1, ..., 1, 0, 0])"
      ]
     },
     "execution_count": 10,
     "metadata": {},
     "output_type": "execute_result"
    }
   ],
   "source": [
    "# Target variables \n",
    "y = np.where(df['Close'].shift(-1) > df['Close'], 1, 0) \n",
    "y"
   ]
  },
  {
   "cell_type": "markdown",
   "id": "d408337b",
   "metadata": {},
   "source": [
    "- The code calculates the target variable `y` for the stock price prediction model.\n",
    "\n",
    "\n",
    "- It compares the 'Close' price of each day with the 'Close' price of the next day (shifted by -1 day).\n",
    "\n",
    "\n",
    "> - If the 'Close' price of the next day is higher than the current day, it assigns `1` to `y`, indicating a positive price movement.\n",
    "  \n",
    ">- If the 'Close' price of the next day is lower or equal to the current day, it assigns `0` to `y`, indicating a negative or no price movement.\n",
    "\n",
    "\n",
    "- This binary classification approach prepares the target variable `y` for training a machine learning model to predict whether the stock price will increase or decrease."
   ]
  },
  {
   "cell_type": "markdown",
   "id": "3170f96a",
   "metadata": {},
   "source": [
    "## Splitting the Data into Training and Test Sets"
   ]
  },
  {
   "cell_type": "code",
   "execution_count": 11,
   "id": "96c1afe6",
   "metadata": {},
   "outputs": [],
   "source": [
    "split_percentage = 0.8\n",
    "split = int(split_percentage*len(df)) \n",
    "\n",
    "# Train data set \n",
    "X_train = X[:split] \n",
    "y_train = y[:split] \n",
    "\n",
    "# Test data set \n",
    "X_test = X[split:] \n",
    "y_test = y[split:]"
   ]
  },
  {
   "cell_type": "markdown",
   "id": "e2ccdbb1",
   "metadata": {},
   "source": [
    "\n",
    "- The code defines a `split_percentage` of 0.8, indicating an 80-20 split for training and testing data, respectively.\n",
    "\n",
    "\n",
    "- It calculates the index at which to split the data by multiplying `split_percentage` by the length of the DataFrame (`len(df)`) and converting it to an integer (`int()`).\n",
    "\n",
    "\n",
    "- The code then splits the predictor variables (`X`) and the target variable (`y`) into training and test sets based on the calculated split index.\n",
    "\n",
    "\n",
    "- `X_train` and `y_train` contain the training data, which includes the first 80% of the rows, while `X_test` and `y_test` contain the test data, which includes the remaining 20% of the rows."
   ]
  },
  {
   "cell_type": "markdown",
   "id": "dcf4051b",
   "metadata": {},
   "source": [
    "## Data Splitting Details based on `split_percentage`"
   ]
  },
  {
   "cell_type": "code",
   "execution_count": 12,
   "id": "2c920973",
   "metadata": {},
   "outputs": [
    {
     "name": "stdout",
     "output_type": "stream",
     "text": [
      "Length of the original dataset 1233\n",
      "Length of Train set :  986\n",
      "Length of Test set :  247\n"
     ]
    }
   ],
   "source": [
    "print(\"Length of the original dataset\", len(df))\n",
    "print(\"Length of Train set : \",split)\n",
    "print(\"Length of Test set : \",len(df)-split)"
   ]
  },
  {
   "cell_type": "code",
   "execution_count": 13,
   "id": "c86389b8",
   "metadata": {},
   "outputs": [
    {
     "data": {
      "text/plain": [
       "986"
      ]
     },
     "execution_count": 13,
     "metadata": {},
     "output_type": "execute_result"
    }
   ],
   "source": [
    "len(X_train)"
   ]
  },
  {
   "cell_type": "code",
   "execution_count": 14,
   "id": "a424e98d",
   "metadata": {},
   "outputs": [
    {
     "data": {
      "text/plain": [
       "247"
      ]
     },
     "execution_count": 14,
     "metadata": {},
     "output_type": "execute_result"
    }
   ],
   "source": [
    "len(X_test)"
   ]
  },
  {
   "cell_type": "code",
   "execution_count": 15,
   "id": "1a163aed",
   "metadata": {},
   "outputs": [
    {
     "data": {
      "text/html": [
       "<div>\n",
       "<style scoped>\n",
       "    .dataframe tbody tr th:only-of-type {\n",
       "        vertical-align: middle;\n",
       "    }\n",
       "\n",
       "    .dataframe tbody tr th {\n",
       "        vertical-align: top;\n",
       "    }\n",
       "\n",
       "    .dataframe thead th {\n",
       "        text-align: right;\n",
       "    }\n",
       "</style>\n",
       "<table border=\"1\" class=\"dataframe\">\n",
       "  <thead>\n",
       "    <tr style=\"text-align: right;\">\n",
       "      <th></th>\n",
       "      <th>Open-Close</th>\n",
       "      <th>High-Low</th>\n",
       "    </tr>\n",
       "    <tr>\n",
       "      <th>Date</th>\n",
       "      <th></th>\n",
       "      <th></th>\n",
       "    </tr>\n",
       "  </thead>\n",
       "  <tbody>\n",
       "    <tr>\n",
       "      <th>2015-11-18</th>\n",
       "      <td>7.799988</td>\n",
       "      <td>10.674988</td>\n",
       "    </tr>\n",
       "    <tr>\n",
       "      <th>2015-11-19</th>\n",
       "      <td>-7.924988</td>\n",
       "      <td>10.725006</td>\n",
       "    </tr>\n",
       "    <tr>\n",
       "      <th>2015-11-20</th>\n",
       "      <td>-6.424988</td>\n",
       "      <td>13.625000</td>\n",
       "    </tr>\n",
       "    <tr>\n",
       "      <th>2015-11-23</th>\n",
       "      <td>-1.875000</td>\n",
       "      <td>5.850006</td>\n",
       "    </tr>\n",
       "    <tr>\n",
       "      <th>2015-11-24</th>\n",
       "      <td>-7.350006</td>\n",
       "      <td>10.274994</td>\n",
       "    </tr>\n",
       "    <tr>\n",
       "      <th>...</th>\n",
       "      <td>...</td>\n",
       "      <td>...</td>\n",
       "    </tr>\n",
       "    <tr>\n",
       "      <th>2019-11-15</th>\n",
       "      <td>-5.199952</td>\n",
       "      <td>23.650025</td>\n",
       "    </tr>\n",
       "    <tr>\n",
       "      <th>2019-11-18</th>\n",
       "      <td>13.450073</td>\n",
       "      <td>30.599976</td>\n",
       "    </tr>\n",
       "    <tr>\n",
       "      <th>2019-11-19</th>\n",
       "      <td>-42.750000</td>\n",
       "      <td>49.900024</td>\n",
       "    </tr>\n",
       "    <tr>\n",
       "      <th>2019-11-20</th>\n",
       "      <td>7.400025</td>\n",
       "      <td>29.200073</td>\n",
       "    </tr>\n",
       "    <tr>\n",
       "      <th>2019-11-21</th>\n",
       "      <td>7.400024</td>\n",
       "      <td>27.449951</td>\n",
       "    </tr>\n",
       "  </tbody>\n",
       "</table>\n",
       "<p>986 rows × 2 columns</p>\n",
       "</div>"
      ],
      "text/plain": [
       "            Open-Close   High-Low\n",
       "Date                             \n",
       "2015-11-18    7.799988  10.674988\n",
       "2015-11-19   -7.924988  10.725006\n",
       "2015-11-20   -6.424988  13.625000\n",
       "2015-11-23   -1.875000   5.850006\n",
       "2015-11-24   -7.350006  10.274994\n",
       "...                ...        ...\n",
       "2019-11-15   -5.199952  23.650025\n",
       "2019-11-18   13.450073  30.599976\n",
       "2019-11-19  -42.750000  49.900024\n",
       "2019-11-20    7.400025  29.200073\n",
       "2019-11-21    7.400024  27.449951\n",
       "\n",
       "[986 rows x 2 columns]"
      ]
     },
     "execution_count": 15,
     "metadata": {},
     "output_type": "execute_result"
    }
   ],
   "source": [
    "X_train"
   ]
  },
  {
   "cell_type": "markdown",
   "id": "9903dbc4",
   "metadata": {},
   "source": [
    "## Building a `Support Vector Classifier` model for `Predicting Stock Price Direction`"
   ]
  },
  {
   "cell_type": "code",
   "execution_count": 17,
   "id": "f9961b40",
   "metadata": {
    "scrolled": false
   },
   "outputs": [],
   "source": [
    "# Support vector classifier\n",
    "svc = SVC(random_state = 100)\n",
    "cls = svc.fit(X_train, y_train)"
   ]
  },
  {
   "cell_type": "markdown",
   "id": "cf9d97b9",
   "metadata": {},
   "source": [
    "\n",
    "> The code defines a **Support Vector Classifier (`SVC`)** with a random state of 100 to ensure reproducibility of results.   \n",
    "\n",
    "> It then trains the classifier (`svc.fit()`) using the training data (`X_train` and `y_train`) to create a model (`cls`) that can predict whether the stock price will increase or decrease based on the predictor variables."
   ]
  },
  {
   "cell_type": "markdown",
   "id": "ad1f302e",
   "metadata": {},
   "source": [
    "### Adding Predicted Signals to the DataFrame"
   ]
  },
  {
   "cell_type": "code",
   "execution_count": 18,
   "id": "50e5a4a9",
   "metadata": {},
   "outputs": [],
   "source": [
    "df['Predicted_Signal'] = cls.predict(X)"
   ]
  },
  {
   "cell_type": "markdown",
   "id": "73042040",
   "metadata": {},
   "source": [
    "\n",
    ">The code predicts the stock price direction for each day in the dataset using the trained classifier (`cls.predict(X)`) and assigns the predicted signals to a new column in the DataFrame called `'Predicted_Signal'`. Each value in this column represents the predicted direction of the stock price movement (1 for increase, 0 for decrease)."
   ]
  },
  {
   "cell_type": "markdown",
   "id": "fae85015",
   "metadata": {},
   "source": [
    "### Calculating and Adding Daily Returns to the Dataframe"
   ]
  },
  {
   "cell_type": "code",
   "execution_count": 19,
   "id": "f542c387",
   "metadata": {},
   "outputs": [],
   "source": [
    "# Calculate daily returns \n",
    "df['Return'] = df.Close.pct_change()"
   ]
  },
  {
   "cell_type": "markdown",
   "id": "4cacc4bc",
   "metadata": {},
   "source": [
    "\n",
    "> The code calculates the daily returns of the stock price by using the `pct_change()` method on the 'Close' price column. The resulting values are assigned to a new column called `'Return'` in the DataFrame. Each value in this column represents the percentage change in the closing price from the previous day."
   ]
  },
  {
   "cell_type": "markdown",
   "id": "123a68f1",
   "metadata": {},
   "source": [
    "### Calculating and Adding Strategy Returns to the Dataframe¶"
   ]
  },
  {
   "cell_type": "code",
   "execution_count": 20,
   "id": "c7388263",
   "metadata": {},
   "outputs": [],
   "source": [
    "# Calculate strategy returns \n",
    "df['Strategy_Return'] = df.Return *df.Predicted_Signal.shift(1)"
   ]
  },
  {
   "cell_type": "markdown",
   "id": "e489eac5",
   "metadata": {},
   "source": [
    "\n",
    "\n",
    "> The code calculates the strategy returns by multiplying the 'Return' column (which represents the daily returns of the stock) with the 'Predicted_Signal' column shifted by one day (`df.Predicted_Signal.shift(1)`). \n",
    "    \n",
    "    \n",
    "> Shifting the 'Predicted_Signal' column by one day ensures that the strategy return for a given day is based on the signal predicted for the previous day.\n",
    "    \n",
    "     \n",
    "> The result is assigned to a new column called 'Strategy_Return' in the DataFrame. This column represents the returns generated by the trading strategy based on the predicted stock price movements.\n"
   ]
  },
  {
   "cell_type": "markdown",
   "id": "6350b664",
   "metadata": {},
   "source": [
    "### Calculating Cumulative Returns"
   ]
  },
  {
   "cell_type": "code",
   "execution_count": 21,
   "id": "d5d48847",
   "metadata": {},
   "outputs": [],
   "source": [
    "# Calculate Cumulutive returns \n",
    "df['Cum_Ret'] = df['Return'].cumsum() "
   ]
  },
  {
   "cell_type": "markdown",
   "id": "aec7bd7e",
   "metadata": {},
   "source": [
    "> The code calculates the cumulative returns of the stock price by using the cumsum() method on the 'Return' column.\n",
    "\n",
    "> The cumulative sum is calculated incrementally, where each value represents the cumulative return up to that point in time.\n",
    "\n",
    "> The resulting values are assigned to a new column called 'Cum_Ret' in the DataFrame, which represents the cumulative returns of the stock over time."
   ]
  },
  {
   "cell_type": "code",
   "execution_count": 22,
   "id": "9dfe11ce",
   "metadata": {},
   "outputs": [
    {
     "data": {
      "text/html": [
       "<div>\n",
       "<style scoped>\n",
       "    .dataframe tbody tr th:only-of-type {\n",
       "        vertical-align: middle;\n",
       "    }\n",
       "\n",
       "    .dataframe tbody tr th {\n",
       "        vertical-align: top;\n",
       "    }\n",
       "\n",
       "    .dataframe thead th {\n",
       "        text-align: right;\n",
       "    }\n",
       "</style>\n",
       "<table border=\"1\" class=\"dataframe\">\n",
       "  <thead>\n",
       "    <tr style=\"text-align: right;\">\n",
       "      <th></th>\n",
       "      <th>Open</th>\n",
       "      <th>High</th>\n",
       "      <th>Low</th>\n",
       "      <th>Close</th>\n",
       "      <th>Adj Close</th>\n",
       "      <th>Volume</th>\n",
       "      <th>Open-Close</th>\n",
       "      <th>High-Low</th>\n",
       "      <th>Predicted_Signal</th>\n",
       "      <th>Return</th>\n",
       "      <th>Strategy_Return</th>\n",
       "      <th>Cum_Ret</th>\n",
       "    </tr>\n",
       "    <tr>\n",
       "      <th>Date</th>\n",
       "      <th></th>\n",
       "      <th></th>\n",
       "      <th></th>\n",
       "      <th></th>\n",
       "      <th></th>\n",
       "      <th></th>\n",
       "      <th></th>\n",
       "      <th></th>\n",
       "      <th></th>\n",
       "      <th></th>\n",
       "      <th></th>\n",
       "      <th></th>\n",
       "    </tr>\n",
       "  </thead>\n",
       "  <tbody>\n",
       "    <tr>\n",
       "      <th>2015-11-18</th>\n",
       "      <td>463.799988</td>\n",
       "      <td>465.649994</td>\n",
       "      <td>454.975006</td>\n",
       "      <td>456.000000</td>\n",
       "      <td>436.671021</td>\n",
       "      <td>5142766.0</td>\n",
       "      <td>7.799988</td>\n",
       "      <td>10.674988</td>\n",
       "      <td>1</td>\n",
       "      <td>NaN</td>\n",
       "      <td>NaN</td>\n",
       "      <td>NaN</td>\n",
       "    </tr>\n",
       "    <tr>\n",
       "      <th>2015-11-19</th>\n",
       "      <td>459.450012</td>\n",
       "      <td>469.350006</td>\n",
       "      <td>458.625000</td>\n",
       "      <td>467.375000</td>\n",
       "      <td>447.563873</td>\n",
       "      <td>5569752.0</td>\n",
       "      <td>-7.924988</td>\n",
       "      <td>10.725006</td>\n",
       "      <td>1</td>\n",
       "      <td>0.024945</td>\n",
       "      <td>0.024945</td>\n",
       "      <td>0.024945</td>\n",
       "    </tr>\n",
       "    <tr>\n",
       "      <th>2015-11-20</th>\n",
       "      <td>467.000000</td>\n",
       "      <td>476.399994</td>\n",
       "      <td>462.774994</td>\n",
       "      <td>473.424988</td>\n",
       "      <td>453.357422</td>\n",
       "      <td>5167930.0</td>\n",
       "      <td>-6.424988</td>\n",
       "      <td>13.625000</td>\n",
       "      <td>1</td>\n",
       "      <td>0.012945</td>\n",
       "      <td>0.012945</td>\n",
       "      <td>0.037890</td>\n",
       "    </tr>\n",
       "    <tr>\n",
       "      <th>2015-11-23</th>\n",
       "      <td>475.000000</td>\n",
       "      <td>478.950012</td>\n",
       "      <td>473.100006</td>\n",
       "      <td>476.875000</td>\n",
       "      <td>456.661224</td>\n",
       "      <td>4800026.0</td>\n",
       "      <td>-1.875000</td>\n",
       "      <td>5.850006</td>\n",
       "      <td>1</td>\n",
       "      <td>0.007287</td>\n",
       "      <td>0.007287</td>\n",
       "      <td>0.045177</td>\n",
       "    </tr>\n",
       "    <tr>\n",
       "      <th>2015-11-24</th>\n",
       "      <td>476.500000</td>\n",
       "      <td>485.799988</td>\n",
       "      <td>475.524994</td>\n",
       "      <td>483.850006</td>\n",
       "      <td>463.340515</td>\n",
       "      <td>6768886.0</td>\n",
       "      <td>-7.350006</td>\n",
       "      <td>10.274994</td>\n",
       "      <td>1</td>\n",
       "      <td>0.014626</td>\n",
       "      <td>0.014626</td>\n",
       "      <td>0.059804</td>\n",
       "    </tr>\n",
       "    <tr>\n",
       "      <th>...</th>\n",
       "      <td>...</td>\n",
       "      <td>...</td>\n",
       "      <td>...</td>\n",
       "      <td>...</td>\n",
       "      <td>...</td>\n",
       "      <td>...</td>\n",
       "      <td>...</td>\n",
       "      <td>...</td>\n",
       "      <td>...</td>\n",
       "      <td>...</td>\n",
       "      <td>...</td>\n",
       "      <td>...</td>\n",
       "    </tr>\n",
       "    <tr>\n",
       "      <th>2020-11-10</th>\n",
       "      <td>2077.000000</td>\n",
       "      <td>2090.000000</td>\n",
       "      <td>2041.199951</td>\n",
       "      <td>2084.550049</td>\n",
       "      <td>2084.550049</td>\n",
       "      <td>17045147.0</td>\n",
       "      <td>-7.550049</td>\n",
       "      <td>48.800049</td>\n",
       "      <td>1</td>\n",
       "      <td>0.016507</td>\n",
       "      <td>0.000000</td>\n",
       "      <td>1.866347</td>\n",
       "    </tr>\n",
       "    <tr>\n",
       "      <th>2020-11-11</th>\n",
       "      <td>2089.000000</td>\n",
       "      <td>2095.000000</td>\n",
       "      <td>1978.099976</td>\n",
       "      <td>1997.199951</td>\n",
       "      <td>1997.199951</td>\n",
       "      <td>26178477.0</td>\n",
       "      <td>91.800049</td>\n",
       "      <td>116.900024</td>\n",
       "      <td>1</td>\n",
       "      <td>-0.041904</td>\n",
       "      <td>-0.041904</td>\n",
       "      <td>1.824444</td>\n",
       "    </tr>\n",
       "    <tr>\n",
       "      <th>2020-11-12</th>\n",
       "      <td>1981.000000</td>\n",
       "      <td>2008.449951</td>\n",
       "      <td>1965.000000</td>\n",
       "      <td>1980.000000</td>\n",
       "      <td>1980.000000</td>\n",
       "      <td>18481466.0</td>\n",
       "      <td>1.000000</td>\n",
       "      <td>43.449951</td>\n",
       "      <td>0</td>\n",
       "      <td>-0.008612</td>\n",
       "      <td>-0.008612</td>\n",
       "      <td>1.815832</td>\n",
       "    </tr>\n",
       "    <tr>\n",
       "      <th>2020-11-13</th>\n",
       "      <td>1982.000000</td>\n",
       "      <td>2036.650024</td>\n",
       "      <td>1981.750000</td>\n",
       "      <td>1996.400024</td>\n",
       "      <td>1996.400024</td>\n",
       "      <td>20946864.0</td>\n",
       "      <td>-14.400024</td>\n",
       "      <td>54.900024</td>\n",
       "      <td>1</td>\n",
       "      <td>0.008283</td>\n",
       "      <td>0.000000</td>\n",
       "      <td>1.824114</td>\n",
       "    </tr>\n",
       "    <tr>\n",
       "      <th>2020-11-17</th>\n",
       "      <td>2085.000000</td>\n",
       "      <td>2085.000000</td>\n",
       "      <td>1985.000000</td>\n",
       "      <td>1993.250000</td>\n",
       "      <td>1993.250000</td>\n",
       "      <td>21479385.0</td>\n",
       "      <td>91.750000</td>\n",
       "      <td>100.000000</td>\n",
       "      <td>0</td>\n",
       "      <td>-0.001578</td>\n",
       "      <td>-0.001578</td>\n",
       "      <td>1.822537</td>\n",
       "    </tr>\n",
       "  </tbody>\n",
       "</table>\n",
       "<p>1233 rows × 12 columns</p>\n",
       "</div>"
      ],
      "text/plain": [
       "                   Open         High          Low        Close    Adj Close  \\\n",
       "Date                                                                          \n",
       "2015-11-18   463.799988   465.649994   454.975006   456.000000   436.671021   \n",
       "2015-11-19   459.450012   469.350006   458.625000   467.375000   447.563873   \n",
       "2015-11-20   467.000000   476.399994   462.774994   473.424988   453.357422   \n",
       "2015-11-23   475.000000   478.950012   473.100006   476.875000   456.661224   \n",
       "2015-11-24   476.500000   485.799988   475.524994   483.850006   463.340515   \n",
       "...                 ...          ...          ...          ...          ...   \n",
       "2020-11-10  2077.000000  2090.000000  2041.199951  2084.550049  2084.550049   \n",
       "2020-11-11  2089.000000  2095.000000  1978.099976  1997.199951  1997.199951   \n",
       "2020-11-12  1981.000000  2008.449951  1965.000000  1980.000000  1980.000000   \n",
       "2020-11-13  1982.000000  2036.650024  1981.750000  1996.400024  1996.400024   \n",
       "2020-11-17  2085.000000  2085.000000  1985.000000  1993.250000  1993.250000   \n",
       "\n",
       "                Volume  Open-Close    High-Low  Predicted_Signal    Return  \\\n",
       "Date                                                                         \n",
       "2015-11-18   5142766.0    7.799988   10.674988                 1       NaN   \n",
       "2015-11-19   5569752.0   -7.924988   10.725006                 1  0.024945   \n",
       "2015-11-20   5167930.0   -6.424988   13.625000                 1  0.012945   \n",
       "2015-11-23   4800026.0   -1.875000    5.850006                 1  0.007287   \n",
       "2015-11-24   6768886.0   -7.350006   10.274994                 1  0.014626   \n",
       "...                ...         ...         ...               ...       ...   \n",
       "2020-11-10  17045147.0   -7.550049   48.800049                 1  0.016507   \n",
       "2020-11-11  26178477.0   91.800049  116.900024                 1 -0.041904   \n",
       "2020-11-12  18481466.0    1.000000   43.449951                 0 -0.008612   \n",
       "2020-11-13  20946864.0  -14.400024   54.900024                 1  0.008283   \n",
       "2020-11-17  21479385.0   91.750000  100.000000                 0 -0.001578   \n",
       "\n",
       "            Strategy_Return   Cum_Ret  \n",
       "Date                                   \n",
       "2015-11-18              NaN       NaN  \n",
       "2015-11-19         0.024945  0.024945  \n",
       "2015-11-20         0.012945  0.037890  \n",
       "2015-11-23         0.007287  0.045177  \n",
       "2015-11-24         0.014626  0.059804  \n",
       "...                     ...       ...  \n",
       "2020-11-10         0.000000  1.866347  \n",
       "2020-11-11        -0.041904  1.824444  \n",
       "2020-11-12        -0.008612  1.815832  \n",
       "2020-11-13         0.000000  1.824114  \n",
       "2020-11-17        -0.001578  1.822537  \n",
       "\n",
       "[1233 rows x 12 columns]"
      ]
     },
     "execution_count": 22,
     "metadata": {},
     "output_type": "execute_result"
    }
   ],
   "source": [
    "# Print the updated dataset\n",
    "df"
   ]
  },
  {
   "cell_type": "markdown",
   "id": "ce9d8380",
   "metadata": {},
   "source": [
    ">Note: The first value in the `'Return'`, `'Strategy_Return'`, and `'Cum_Ret'` columns is NaN because there is no previous day's closing price to calculate the return from. Since the return is calculated as the percentage change from the previous day's closing price to the current day's closing price, it cannot be calculated for the first day in the dataset."
   ]
  },
  {
   "cell_type": "markdown",
   "id": "cd284815",
   "metadata": {},
   "source": [
    "## Plotting Cumulative Returns and Strategy Returns"
   ]
  },
  {
   "cell_type": "code",
   "execution_count": 23,
   "id": "1c1def96",
   "metadata": {},
   "outputs": [
    {
     "data": {
      "text/plain": [
       "[<matplotlib.lines.Line2D at 0x19c21dc5850>]"
      ]
     },
     "execution_count": 23,
     "metadata": {},
     "output_type": "execute_result"
    },
    {
     "data": {
      "image/png": "[encoded data removed]",
      "text/plain": [
       "<Figure size 432x288 with 1 Axes>"
      ]
     },
     "metadata": {
      "needs_background": "light"
     },
     "output_type": "display_data"
    }
   ],
   "source": [
    "import matplotlib.pyplot as plt \n",
    "%matplotlib inline \n",
    "\n",
    "plt.plot(df['Cum_Ret'],color='red') \n",
    "plt.plot(df['Strategy_Return'],color='blue')"
   ]
  },
  {
   "cell_type": "markdown",
   "id": "61adceb8",
   "metadata": {},
   "source": [
    ">This code plots the `cumulative returns` and `strategy returns` from a stock dataset. The cumulative returns represent the total returns over time, while the strategy returns represent the returns based on a trading strategy. The red line represents the cumulative returns, and the blue line represents the strategy returns."
   ]
  },
  {
   "cell_type": "markdown",
   "id": "baa6a1f0",
   "metadata": {},
   "source": [
    "## Visualising Stock Price Patterns and Trading Strategy Returns "
   ]
  },
  {
   "cell_type": "code",
   "execution_count": 37,
   "id": "c36fa656",
   "metadata": {},
   "outputs": [
    {
     "data": {
      "image/png": "[encoded data removed]",
      "text/plain": [
       "<Figure size 1440x1080 with 6 Axes>"
      ]
     },
     "metadata": {
      "needs_background": "light"
     },
     "output_type": "display_data"
    }
   ],
   "source": [
    "# Plotting the data\n",
    "fig, ax = plt.subplots(3, 2, figsize=(20, 15))\n",
    "\n",
    "# Open-Close plot\n",
    "ax[0, 0].plot(df.index, df['Open-Close'], label='Open-Close', color='blue')\n",
    "ax[0, 0].set_title('Open-Close')\n",
    "ax[0, 0].legend()\n",
    "\n",
    "# High-Low plot\n",
    "ax[0, 1].plot(df.index, df['High-Low'], label='High-Low', color='green')\n",
    "ax[0, 1].set_title('High-Low')\n",
    "ax[0, 1].legend()\n",
    "\n",
    "\n",
    "# Return plot\n",
    "ax[1, 0].plot(df.index, df['Return'], label='Return', color='orange')\n",
    "ax[1, 0].set_title('Return')\n",
    "ax[1, 0].legend()\n",
    "\n",
    "# High-Low plot\n",
    "ax[1, 1].plot(df.index, df['Adj Close'], label='Adj-Close', color='red')\n",
    "ax[1, 1].set_title('Adj-Close')\n",
    "ax[1, 1].legend()\n",
    "\n",
    "# Strategy Return plot\n",
    "ax[2, 0].plot(df.index, df['Strategy_Return'], label='Strategy_Return', color='purple')\n",
    "ax[2, 0].set_title('Strategy Return')\n",
    "ax[2, 0].legend()\n",
    "\n",
    "# Cumulative Return plot\n",
    "ax[2, 1].plot(df.index, df['Cum_Ret'], label='Cumulative Return', color='brown')\n",
    "ax[2, 1].set_title('Cumulative Return')\n",
    "ax[2, 1].legend()\n",
    "\n",
    "# Adjust layout\n",
    "plt.tight_layout()\n",
    "\n",
    "# Display the plot\n",
    "plt.show()\n"
   ]
  },
  {
   "cell_type": "markdown",
   "id": "21f213f4",
   "metadata": {},
   "source": [
    ">This code generates a multi-plot visualization to explore patterns in stock price movements, including `open-close and high-low price differentials, daily returns, adjusted closing prices`, and the performance of a trading strategy based on predicted signals. The visualization helps in understanding the dataset's trends and the effectiveness of the trading strategy.\n",
    "\n",
    "The insights we can gather from the graphs:\n",
    "\n",
    "1. **Trend Analysis**: \n",
    "   - The adjusted close price graph shows a generally upward trend over time, indicating overall growth in the stock price.\n",
    "   - The cumulative return graph also displays a positive trend, suggesting that the trading strategy has generated profits over the observed period.\n",
    "\n",
    "\n",
    "2. **Volatility Assessment**:\n",
    "   - High fluctuations in the open-close and high-low price differentials indicate significant volatility in the stock's daily movements. This volatility may present both opportunities and risks for traders.\n",
    "\n",
    "\n",
    "3. **Profitability Evaluation**:\n",
    "   - Peaks in the strategy return graph indicate periods of profit generation by the trading strategy, while troughs suggest periods of losses.\n",
    "   - The cumulative return graph provides an overall view of profitability, with upward trends indicating net profits and downward trends indicating losses.\n",
    "\n",
    "\n",
    "4. **Risk Analysis**:\n",
    "   - Large spikes or dips in the daily returns and strategy returns graphs may signal periods of high risk or unexpected market events. Understanding these fluctuations helps in managing risk exposure.\n",
    "\n"
   ]
  },
  {
   "cell_type": "markdown",
   "id": "c55f9064",
   "metadata": {},
   "source": [
    "## SVM Model Accuracy Evaluation"
   ]
  },
  {
   "cell_type": "code",
   "execution_count": 38,
   "id": "539aba55",
   "metadata": {},
   "outputs": [
    {
     "name": "stdout",
     "output_type": "stream",
     "text": [
      "Accuracy: 45.75\n"
     ]
    }
   ],
   "source": [
    "# Predict on the test set\n",
    "y_pred = cls.predict(X_test)\n",
    "\n",
    "# Calculate accuracy\n",
    "accuracy = accuracy_score(y_test, y_pred)\n",
    "print(\"Accuracy:\", round(accuracy*100,2))\n"
   ]
  },
  {
   "cell_type": "markdown",
   "id": "d238bf7e",
   "metadata": {},
   "source": [
    "### Analysis of Predicted Model"
   ]
  },
  {
   "cell_type": "code",
   "execution_count": 39,
   "id": "f7565656",
   "metadata": {},
   "outputs": [
    {
     "name": "stdout",
     "output_type": "stream",
     "text": [
      "Confusion Matrix:\n",
      "[[39 83]\n",
      " [51 74]]\n"
     ]
    }
   ],
   "source": [
    "from sklearn.metrics import confusion_matrix\n",
    "# Confusion Matrix\n",
    "conf_matrix = confusion_matrix(y_test, y_pred)\n",
    "print(\"Confusion Matrix:\")\n",
    "print(conf_matrix)"
   ]
  },
  {
   "cell_type": "markdown",
   "id": "079f6139",
   "metadata": {},
   "source": [
    "|            | Predicted Negative | Predicted Positive |\n",
    "|------------|--------------------|--------------------|\n",
    "| Actual Negative (TN) | 39                 | 83                 |\n",
    "| Actual Positive (FN) | 51                 | 74                 |\n"
   ]
  },
  {
   "cell_type": "code",
   "execution_count": 28,
   "id": "fcbdb808",
   "metadata": {},
   "outputs": [
    {
     "data": {
      "image/png": "[encoded data removed]",
      "text/plain": [
       "<Figure size 576x432 with 1 Axes>"
      ]
     },
     "metadata": {
      "needs_background": "light"
     },
     "output_type": "display_data"
    }
   ],
   "source": [
    "import seaborn as sns\n",
    "# Plot confusion matrix\n",
    "plt.figure(figsize=(8, 6))\n",
    "sns.heatmap(conf_matrix, annot=True, cmap='RdPu', fmt='g', cbar=False)\n",
    "plt.xlabel('Predicted')\n",
    "plt.ylabel('Actual')\n",
    "plt.title('Confusion Matrix')\n",
    "plt.show()"
   ]
  },
  {
   "cell_type": "markdown",
   "id": "cd35d244",
   "metadata": {},
   "source": [
    "### Model Performance Evaluation with Classification Report"
   ]
  },
  {
   "cell_type": "code",
   "execution_count": 40,
   "id": "dd0b772c",
   "metadata": {},
   "outputs": [
    {
     "name": "stdout",
     "output_type": "stream",
     "text": [
      "Classification Report:\n",
      "              precision    recall  f1-score   support\n",
      "\n",
      "           0       0.43      0.32      0.37       122\n",
      "           1       0.47      0.59      0.52       125\n",
      "\n",
      "    accuracy                           0.46       247\n",
      "   macro avg       0.45      0.46      0.45       247\n",
      "weighted avg       0.45      0.46      0.45       247\n",
      "\n"
     ]
    }
   ],
   "source": [
    "from sklearn.metrics import classification_report\n",
    "\n",
    "# Classification Report\n",
    "class_report = classification_report(y_test, y_pred)\n",
    "print(\"Classification Report:\")\n",
    "print(class_report)"
   ]
  },
  {
   "cell_type": "markdown",
   "id": "aa51680e",
   "metadata": {},
   "source": [
    "The classification report provides a summary of various evaluation metrics for the model's performance on the test set:\n",
    "\n",
    "- **Precision:** Indicates the proportion of true positive predictions among all positive predictions. For class 0, the precision is 0.43, and for class 1, it is 0.47. This means that out of all instances predicted as class 0, only 43% were actually class 0, and out of all instances predicted as class 1, only 47% were actually class 1.\n",
    "\n",
    "\n",
    "- **Recall:** Also known as sensitivity or true positive rate, it measures the proportion of actual positives that were correctly predicted by the model. For class 0, the recall is 0.32, and for class 1, it is 0.59. This indicates that the model could capture only 32% of the actual class 0 instances and 59% of the actual class 1 instances.\n",
    "\n",
    "\n",
    "- **F1-score:** The harmonic mean of precision and recall, providing a balance between the two metrics. For class 0, the F1-score is 0.37, and for class 1, it is 0.52.\n",
    "\n",
    "\n",
    "- **Support:** The number of actual occurrences of each class in the test set. There are 122 instances of class 0 and 125 instances of class 1.\n",
    "\n",
    "\n",
    "- **Accuracy:** The overall accuracy of the model on the test set is 46%, indicating the proportion of correctly predicted instances out of all instances."
   ]
  },
  {
   "cell_type": "markdown",
   "id": "fe547d47",
   "metadata": {},
   "source": [
    "# Predicting Stock Price Direction using Other Algorithms "
   ]
  },
  {
   "cell_type": "markdown",
   "id": "d23bc2a9",
   "metadata": {},
   "source": [
    "# Random Forest Classifier Model"
   ]
  },
  {
   "cell_type": "code",
   "execution_count": 55,
   "id": "37ce6ec5",
   "metadata": {},
   "outputs": [],
   "source": [
    "# Using Scikit-learn to split data into training and testing sets \n",
    "from sklearn.model_selection import train_test_split \n",
    "# Split the data into training and testing sets \n",
    "X_train, X_test, y_train, y_test = train_test_split( \n",
    "        X, y, test_size = 0.2, random_state = 100)"
   ]
  },
  {
   "cell_type": "code",
   "execution_count": 57,
   "id": "bec0f0ee",
   "metadata": {},
   "outputs": [
    {
     "name": "stdout",
     "output_type": "stream",
     "text": [
      "Accuracy: 51.42\n"
     ]
    }
   ],
   "source": [
    "from sklearn.ensemble import RandomForestClassifier\n",
    "# Train the Random Forest model\n",
    "rf = RandomForestClassifier(n_estimators=100, random_state=42)\n",
    "rf.fit(X_train, y_train)\n",
    "\n",
    "# Make predictions\n",
    "y_pred = rf.predict(X_test)\n",
    "\n",
    "# Calculate accuracy\n",
    "accuracy = accuracy_score(y_test, y_pred)\n",
    "print(\"Accuracy:\", round(accuracy*100,2))"
   ]
  },
  {
   "cell_type": "markdown",
   "id": "7c69d52a",
   "metadata": {},
   "source": [
    "In this section, a **Random Forest classifier model** is trained and evaluated:\n",
    "\n",
    "- **Training the Model:** The Random Forest classifier is trained with 100 decision trees (`n_estimators=100`) and a random state of 42 for reproducibility.\n",
    "  \n",
    "  \n",
    "- **Making Predictions:** The trained model is used to predict the target variable for the test dataset (`X_test`), resulting in predicted labels stored in `y_pred`.\n",
    "\n",
    "\n",
    "- **Accuracy Calculation:** The accuracy of the model is calculated by comparing the predicted labels (`y_pred`) with the actual labels from the test dataset (`y_test`). The accuracy score represents the proportion of correctly predicted instances out of all instances in the test set.\n",
    "\n",
    "\n",
    "- **Output:** The accuracy of the Random Forest classifier model is printed, rounded to two decimal places, indicating the percentage of correctly classified instances.\n",
    "\n",
    "The same procedure is used below for predicting the model using **Decision Tree Classifier**.  "
   ]
  },
  {
   "cell_type": "code",
   "execution_count": 59,
   "id": "64c6c836",
   "metadata": {},
   "outputs": [
    {
     "name": "stdout",
     "output_type": "stream",
     "text": [
      "Confusion Matrix:\n",
      "[[51 58]\n",
      " [58 80]]\n"
     ]
    }
   ],
   "source": [
    "conf_matrix = confusion_matrix(y_test, y_pred)\n",
    "print(\"Confusion Matrix:\")\n",
    "print(conf_matrix)"
   ]
  },
  {
   "cell_type": "markdown",
   "id": "b0db3ab0",
   "metadata": {},
   "source": [
    "# Decision Tree Classifier Model"
   ]
  },
  {
   "cell_type": "code",
   "execution_count": 60,
   "id": "5acff7bb",
   "metadata": {},
   "outputs": [
    {
     "name": "stdout",
     "output_type": "stream",
     "text": [
      "Accuracy: 53.04\n"
     ]
    }
   ],
   "source": [
    "from sklearn.tree import DecisionTreeClassifier\n",
    "# Train the Decision Tree model\n",
    "dt = DecisionTreeClassifier(random_state=42)\n",
    "dt.fit(X_train, y_train)\n",
    "\n",
    "# Make predictions\n",
    "y_pred = dt.predict(X_test)\n",
    "\n",
    "# Calculate accuracy\n",
    "accuracy = accuracy_score(y_test, y_pred)\n",
    "print(\"Accuracy:\", round(accuracy*100,2))"
   ]
  },
  {
   "cell_type": "code",
   "execution_count": 61,
   "id": "6ab7b7f4",
   "metadata": {},
   "outputs": [
    {
     "name": "stdout",
     "output_type": "stream",
     "text": [
      "Confusion Matrix:\n",
      "[[51 58]\n",
      " [58 80]]\n"
     ]
    }
   ],
   "source": [
    "conf_matrix = confusion_matrix(y_test, y_pred)\n",
    "print(\"Confusion Matrix:\")\n",
    "print(conf_matrix)"
   ]
  },
  {
   "cell_type": "markdown",
   "id": "f2927060",
   "metadata": {},
   "source": [
    "\n",
    "|         | Predicted Negative | Predicted Positive |\n",
    "|---------|--------------------|--------------------|\n",
    "| Actual Negative | 51 | 58 |\n",
    "| Actual Positive | 58 | 80 |"
   ]
  },
  {
   "cell_type": "markdown",
   "id": "f48321ef",
   "metadata": {},
   "source": [
    "\n",
    "\n",
    "Based on the **Accuracy Scores**, the **Decision Tree Classifier** performed the best with an accuracy of **53.04%**, followed by the **Random Forest Classifier** with an accuracy of **51.42%**, and the **Support Vector Machine (SVM)** with an accuracy of **45.75%**."
   ]
  },
  {
   "cell_type": "code",
   "execution_count": null,
   "id": "4ec7a3ab",
   "metadata": {},
   "outputs": [],
   "source": []
  }
 ],
 "metadata": {
  "kernelspec": {
   "display_name": "Python 3 (ipykernel)",
   "language": "python",
   "name": "python3"
  },
  "language_info": {
   "codemirror_mode": {
    "name": "ipython",
    "version": 3
   },
   "file_extension": ".py",
   "mimetype": "text/x-python",
   "name": "python",
   "nbconvert_exporter": "python",
   "pygments_lexer": "ipython3",
   "version": "3.9.12"
  }
 },
 "nbformat": 4,
 "nbformat_minor": 5
}
